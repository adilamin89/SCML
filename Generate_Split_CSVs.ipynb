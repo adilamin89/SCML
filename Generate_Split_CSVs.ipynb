{
 "cells": [
  {
   "cell_type": "code",
   "execution_count": 1,
   "id": "81867acd",
   "metadata": {},
   "outputs": [],
   "source": [
    "import pandas as pd\n",
    "import numpy as np\n",
    "from sklearn.preprocessing import StandardScaler\n",
    "from sklearn.decomposition import PCA"
   ]
  },
  {
   "cell_type": "code",
   "execution_count": 2,
   "id": "75f11b3b",
   "metadata": {},
   "outputs": [],
   "source": [
    "# Load Entire dataset\n",
    "dataframe = pd.read_csv('3DSC_MP.csv',low_memory=False)\n"
   ]
  },
  {
   "cell_type": "code",
   "execution_count": 63,
   "id": "20b339ef",
   "metadata": {},
   "outputs": [
    {
     "name": "stdout",
     "output_type": "stream",
     "text": [
      "7\n"
     ]
    }
   ],
   "source": [
    "####  Create the MAGPIE df    #######\n",
    "\n",
    "MAG_cols = [col for col in dataframe if col.startswith('MAGPIE')]\n",
    "MAG_Feat = dataframe[MAG_cols].copy()\n",
    "\n",
    "#Scaling the MAGPIE features for PCA\n",
    "scaled_features = StandardScaler().fit_transform(MAG_Feat.values)\n",
    "Scaled_MAG_F = pd.DataFrame(scaled_features, index=MAG_Feat.index, columns=MAG_Feat.columns)\n",
    "\n",
    "#Perform PCA\n",
    "pca = PCA(7)\n",
    "principalComponents = pca.fit_transform(Scaled_MAG_F)\n",
    "print(pca.n_components_)\n",
    "df_MAGPIE_PCA = pd.DataFrame(data = principalComponents)\n",
    "\n",
    "#Rename the columns to indicate MAGPIE\n",
    "df_MAGPIE_PCA.columns = df_MAGPIE_PCA.columns.astype(str)+'_MAGPIE'\n",
    "\n"
   ]
  },
  {
   "cell_type": "code",
   "execution_count": 64,
   "id": "43a62e51",
   "metadata": {},
   "outputs": [],
   "source": [
    "#Save df as a csv\n",
    "df_MAGPIE_PCA.to_csv('MAGPIE.csv',index=False)\n"
   ]
  },
  {
   "cell_type": "code",
   "execution_count": 65,
   "id": "be5637d0",
   "metadata": {},
   "outputs": [
    {
     "data": {
      "text/plain": [
       "array([0.25148027, 0.10584605, 0.08681497, 0.06712283, 0.05919039,\n",
       "       0.05104559, 0.03863514])"
      ]
     },
     "execution_count": 65,
     "metadata": {},
     "output_type": "execute_result"
    }
   ],
   "source": [
    "pca.explained_variance_ratio_"
   ]
  },
  {
   "cell_type": "code",
   "execution_count": 40,
   "id": "34437cb8",
   "metadata": {},
   "outputs": [
    {
     "name": "stdout",
     "output_type": "stream",
     "text": [
      "4\n"
     ]
    }
   ],
   "source": [
    "####  Create the SOAP df    #######\n",
    "SOAP_cols = [col for col in dataframe if col.startswith('SOAP')]\n",
    "SOAP_Feat = dataframe[SOAP_cols].copy()\n",
    "\n",
    "#Scale the features\n",
    "scaled_features = StandardScaler().fit_transform(SOAP_Feat.values)\n",
    "Scaled_SOAP_F = pd.DataFrame(scaled_features, index=SOAP_Feat.index, columns=SOAP_Feat.columns)\n",
    "\n",
    "#Define the PCA\n",
    "pca = PCA(4)\n",
    "#Perform the PCA fit and transform the features into that reduced dimensional space\n",
    "principalComponents = pca.fit_transform(Scaled_SOAP_F)\n",
    "print(pca.n_components_)\n",
    "#Put it into a pandas df\n",
    "df_SOAP_PCA = pd.DataFrame(data = principalComponents)\n",
    "\n",
    "#Rename the columns to indicate SOAP\n",
    "df_SOAP_PCA.columns = df_SOAP_PCA.columns.astype(str)+'_SOAP'\n"
   ]
  },
  {
   "cell_type": "code",
   "execution_count": 41,
   "id": "8809bddb",
   "metadata": {},
   "outputs": [],
   "source": [
    "#Save df as a csv\n",
    "df_SOAP_PCA.to_csv('SOAP.csv',index=False)"
   ]
  },
  {
   "cell_type": "code",
   "execution_count": 42,
   "id": "c3da816f",
   "metadata": {},
   "outputs": [
    {
     "data": {
      "text/plain": [
       "array([0.01886993, 0.01487697, 0.01354006, 0.01217929])"
      ]
     },
     "execution_count": 42,
     "metadata": {},
     "output_type": "execute_result"
    }
   ],
   "source": [
    "pca.explained_variance_ratio_"
   ]
  },
  {
   "cell_type": "code",
   "execution_count": 7,
   "id": "c300e1a9",
   "metadata": {},
   "outputs": [],
   "source": [
    "####  Create a df without SOAP or MAGPIE features    #######\n",
    "Non_M_S_cols = [col for col in dataframe if not (col.startswith('SOAP')|col.startswith('MAGPIE'))]\n",
    "Basic_Feat = dataframe[Non_M_S_cols].copy()\n"
   ]
  },
  {
   "cell_type": "code",
   "execution_count": 67,
   "id": "01a45214",
   "metadata": {},
   "outputs": [],
   "source": [
    "IS_SC=Basic_Feat['tc'].apply(lambda x: 1 if x>0 else 0)\n",
    "IS_SC=IS_SC.rename('IS_SC')     "
   ]
  },
  {
   "cell_type": "code",
   "execution_count": 71,
   "id": "47fb2c0d",
   "metadata": {},
   "outputs": [],
   "source": [
    "Basic_Feat = pd.concat([Basic_Feat,IS_SC],axis=1)"
   ]
  },
  {
   "cell_type": "code",
   "execution_count": 80,
   "id": "e1b8c826",
   "metadata": {},
   "outputs": [],
   "source": [
    "#Basic_Feat['IS_SC'].value_counts()"
   ]
  },
  {
   "cell_type": "code",
   "execution_count": null,
   "id": "d16df573",
   "metadata": {},
   "outputs": [],
   "source": []
  },
  {
   "cell_type": "code",
   "execution_count": 81,
   "id": "6debc897",
   "metadata": {},
   "outputs": [],
   "source": [
    "#IS_SC"
   ]
  },
  {
   "cell_type": "code",
   "execution_count": 82,
   "id": "e5590cf6",
   "metadata": {},
   "outputs": [],
   "source": [
    "#Save df as a csv\n",
    "Basic_Feat.to_csv('Basic_Features.csv',index=False)"
   ]
  },
  {
   "cell_type": "code",
   "execution_count": null,
   "id": "f7a06958",
   "metadata": {},
   "outputs": [],
   "source": []
  },
  {
   "cell_type": "code",
   "execution_count": 12,
   "id": "9096d223",
   "metadata": {},
   "outputs": [],
   "source": [
    "## Now get the dataframe with the class of each material.\n",
    "class_names = list(dataframe['sc_class'].unique())\n",
    "\n",
    "#Create a dataframe with the fermi energy and class with the correct indices\n",
    "#Add columns for the classes with 0 everywhere. To be changed later\n",
    "featuresC = dataframe[['efermi_2','sc_class']]\n",
    "featuresCC=featuresC.copy()\n",
    "for name in class_names:\n",
    "    featuresCC[name]=0\n",
    "\n",
    "    \n",
    "#Loop through all elements in the data frame \n",
    "#Sets the value for the correct class to 1. \n",
    "for i in range(featuresCC.shape[0]):\n",
    "    scc = featuresCC.loc[i]['sc_class']\n",
    "    featuresCC.loc[i,scc]=1\n",
    "\n",
    "#We no longer need the column with the class or efermi_2, so let's drop it now. \n",
    "featuresCC = featuresCC.drop(['sc_class','efermi_2'], axis=1)\n"
   ]
  },
  {
   "cell_type": "code",
   "execution_count": 13,
   "id": "ae9660ce",
   "metadata": {},
   "outputs": [],
   "source": [
    "#Save df as a csv\n",
    "featuresCC.to_csv('Class.csv',index=False)"
   ]
  },
  {
   "cell_type": "code",
   "execution_count": null,
   "id": "6d3cbaf5",
   "metadata": {},
   "outputs": [],
   "source": []
  }
 ],
 "metadata": {
  "kernelspec": {
   "display_name": "Python 3 (ipykernel)",
   "language": "python",
   "name": "python3"
  },
  "language_info": {
   "codemirror_mode": {
    "name": "ipython",
    "version": 3
   },
   "file_extension": ".py",
   "mimetype": "text/x-python",
   "name": "python",
   "nbconvert_exporter": "python",
   "pygments_lexer": "ipython3",
   "version": "3.8.16"
  }
 },
 "nbformat": 4,
 "nbformat_minor": 5
}
