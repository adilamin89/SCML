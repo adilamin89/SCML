{
 "cells": [
  {
   "cell_type": "code",
   "execution_count": 1,
   "id": "07ef2ff9",
   "metadata": {},
   "outputs": [],
   "source": [
    "import pandas as pd\n",
    "import numpy as np\n",
    "import seaborn as sns\n",
    "from sklearn import datasets\n",
    "from sklearn.svm import LinearSVC\n",
    "from sklearn.preprocessing import StandardScaler\n",
    "from sklearn.decomposition import PCA\n",
    "from sklearn.model_selection import cross_val_score\n",
    "from sklearn.linear_model import LinearRegression\n",
    "import matplotlib.pyplot as plt\n",
    "from sklearn.model_selection import train_test_split\n",
    "from sklearn.kernel_ridge import KernelRidge\n",
    "from sklearn.metrics import mean_squared_log_error\n",
    "\n"
   ]
  },
  {
   "cell_type": "code",
   "execution_count": 2,
   "id": "a0262dea",
   "metadata": {},
   "outputs": [],
   "source": [
    "# Load dataset\n",
    "df_SOAP = pd.read_csv('SOAP.csv')\n",
    "df_MAGPIE = pd.read_csv('MAGPIE.csv')\n",
    "df_Basic = pd.read_csv('Basic_Features.csv')\n",
    "df_Class = pd.read_csv('Class.csv')\n",
    "target = df_Basic['tc']"
   ]
  },
  {
   "cell_type": "code",
   "execution_count": null,
   "id": "b4fe05f9",
   "metadata": {},
   "outputs": [],
   "source": []
  },
  {
   "cell_type": "code",
   "execution_count": 3,
   "id": "539fcbe3",
   "metadata": {},
   "outputs": [],
   "source": [
    "#Function that allows us to run the ML several times. Average the output. \n",
    "def runKRR_NTimes(N,features,targets,gam,alp):\n",
    "    MSLE = []\n",
    "    \n",
    "    for i in range(N):\n",
    "        #Split the data and targets into test train\n",
    "        X_train, X_test, y_train, y_test = train_test_split(features, targets, test_size=0.33)\n",
    "        #Apply KRR ML\n",
    "        KRR = KernelRidge(kernel=\"rbf\", gamma=gam,alpha=alp)\n",
    "        KRR.fit(X_train, y_train)\n",
    "\n",
    "        #Predict based on X_test\n",
    "        KRR_pred=KRR.predict(X_test)\n",
    "\n",
    "        #If our prediction for Tc is negative, we should set the Tc to 0.\n",
    "        #Make a copy before we start changing elements in the dataframe to avoind warnings. \n",
    "        KRR_pred_Pos = KRR_pred.copy()\n",
    "        #Set negative values to positive\n",
    "        for i in range(len(KRR_pred_Pos)):\n",
    "            if KRR_pred_Pos[i]<0:\n",
    "                KRR_pred_Pos[i]=0\n",
    "\n",
    "        #Find the mean square log error (MSLE)\n",
    "        MSLE.append(mean_squared_log_error(y_test, KRR_pred_Pos))\n",
    "    return MSLE\n"
   ]
  },
  {
   "cell_type": "code",
   "execution_count": null,
   "id": "89800f70",
   "metadata": {},
   "outputs": [],
   "source": []
  },
  {
   "cell_type": "code",
   "execution_count": 4,
   "id": "556ae696",
   "metadata": {},
   "outputs": [],
   "source": [
    "df_M_S = df_SOAP.join(df_MAGPIE)"
   ]
  },
  {
   "cell_type": "code",
   "execution_count": 5,
   "id": "8049bfc8",
   "metadata": {},
   "outputs": [],
   "source": [
    "# res = runKRR_NTimes(10,df_M_S,target,.1,.12)\n",
    "# sum(res)/len(res)"
   ]
  },
  {
   "cell_type": "code",
   "execution_count": null,
   "id": "439f7d3e",
   "metadata": {},
   "outputs": [],
   "source": []
  },
  {
   "cell_type": "code",
   "execution_count": 6,
   "id": "2213740a",
   "metadata": {},
   "outputs": [],
   "source": [
    "#Function that allows us to run the ML several times. This function scales the Tc\n",
    "#Average the output of this function after using. \n",
    "def runKRR_NTimes_log(N,features,targets,gam,alp):\n",
    "    MSLE = []\n",
    "    targets_L = np.arcsinh(targets)\n",
    "    for i in range(N):\n",
    "        #Split the data and targets into test train\n",
    "        X_train, X_test, y_train, y_test = train_test_split(features, targets_L, test_size=0.2)\n",
    "        #Apply KRR ML\n",
    "        KRR = KernelRidge(kernel=\"rbf\", gamma=gam,alpha=alp)\n",
    "        KRR.fit(X_train, y_train)\n",
    "\n",
    "        #Predict based on X_test\n",
    "        KRR_pred=KRR.predict(X_test)\n",
    "\n",
    "        #If our prediction for Tc is negative, we should set the Tc to 0.\n",
    "        #Make a copy before we start changing elements in the dataframe to avoind warnings. \n",
    "        KRR_pred_Pos = KRR_pred.copy()\n",
    "        #Set negative values to positive\n",
    "        for i in range(len(KRR_pred_Pos)):\n",
    "            if KRR_pred_Pos[i]<0:\n",
    "                KRR_pred_Pos[i]=0\n",
    "\n",
    "        #Find the mean square log error (MSLE)\n",
    "        MSLE.append(mean_squared_log_error(np.sinh(y_test), np.sinh(KRR_pred_Pos)))\n",
    "    return MSLE\n"
   ]
  },
  {
   "cell_type": "code",
   "execution_count": 14,
   "id": "857077d9",
   "metadata": {},
   "outputs": [
    {
     "data": {
      "text/plain": [
       "0.6771205740265498"
      ]
     },
     "execution_count": 14,
     "metadata": {},
     "output_type": "execute_result"
    }
   ],
   "source": [
    "res = runKRR_NTimes_log(50,df_M_S,target,.1,.12)\n",
    "sum(res)/len(res)"
   ]
  },
  {
   "cell_type": "code",
   "execution_count": 8,
   "id": "e61c0c05",
   "metadata": {},
   "outputs": [],
   "source": [
    "#For MAGPIE 7 PCA features and SOAP 4 PCA features .1, .12 hyperparams: MSLE_avg=0.67"
   ]
  },
  {
   "cell_type": "code",
   "execution_count": null,
   "id": "0bedb44c",
   "metadata": {},
   "outputs": [],
   "source": []
  },
  {
   "cell_type": "code",
   "execution_count": null,
   "id": "0baab369",
   "metadata": {},
   "outputs": [],
   "source": []
  }
 ],
 "metadata": {
  "kernelspec": {
   "display_name": "Python 3 (ipykernel)",
   "language": "python",
   "name": "python3"
  },
  "language_info": {
   "codemirror_mode": {
    "name": "ipython",
    "version": 3
   },
   "file_extension": ".py",
   "mimetype": "text/x-python",
   "name": "python",
   "nbconvert_exporter": "python",
   "pygments_lexer": "ipython3",
   "version": "3.8.16"
  }
 },
 "nbformat": 4,
 "nbformat_minor": 5
}
