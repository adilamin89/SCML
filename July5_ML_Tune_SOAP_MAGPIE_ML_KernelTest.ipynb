{
 "cells": [
  {
   "cell_type": "code",
   "execution_count": 86,
   "id": "07ef2ff9",
   "metadata": {},
   "outputs": [],
   "source": [
    "import pandas as pd\n",
    "import numpy as np\n",
    "import seaborn as sns\n",
    "from sklearn import datasets\n",
    "from sklearn.svm import LinearSVC\n",
    "from sklearn.preprocessing import StandardScaler\n",
    "from sklearn.decomposition import PCA\n",
    "from sklearn.model_selection import cross_val_score\n",
    "from sklearn.linear_model import LinearRegression\n",
    "import matplotlib.pyplot as plt\n",
    "from sklearn.model_selection import train_test_split\n",
    "from sklearn.kernel_ridge import KernelRidge\n",
    "from sklearn.metrics import mean_squared_log_error\n",
    "from scipy.stats import pearsonr\n",
    "from sklearn.metrics import r2_score\n",
    "\n"
   ]
  },
  {
   "cell_type": "code",
   "execution_count": 87,
   "id": "a0262dea",
   "metadata": {},
   "outputs": [],
   "source": [
    "# Load dataset\n",
    "df_SOAP = pd.read_csv('SOAP.csv')\n",
    "df_MAGPIE = pd.read_csv('MAGPIE.csv')\n",
    "df_Basic = pd.read_csv('Basic_Features.csv')\n",
    "df_Class = pd.read_csv('Class.csv')\n",
    "target = df_Basic['tc']"
   ]
  },
  {
   "cell_type": "code",
   "execution_count": 88,
   "id": "b47ad243",
   "metadata": {},
   "outputs": [
    {
     "data": {
      "text/html": [
       "<div>\n",
       "<style scoped>\n",
       "    .dataframe tbody tr th:only-of-type {\n",
       "        vertical-align: middle;\n",
       "    }\n",
       "\n",
       "    .dataframe tbody tr th {\n",
       "        vertical-align: top;\n",
       "    }\n",
       "\n",
       "    .dataframe thead th {\n",
       "        text-align: right;\n",
       "    }\n",
       "</style>\n",
       "<table border=\"1\" class=\"dataframe\">\n",
       "  <thead>\n",
       "    <tr style=\"text-align: right;\">\n",
       "      <th></th>\n",
       "      <th>0_SOAP</th>\n",
       "      <th>1_SOAP</th>\n",
       "      <th>2_SOAP</th>\n",
       "      <th>3_SOAP</th>\n",
       "    </tr>\n",
       "  </thead>\n",
       "  <tbody>\n",
       "    <tr>\n",
       "      <th>0</th>\n",
       "      <td>0.087405</td>\n",
       "      <td>2.350832</td>\n",
       "      <td>0.716843</td>\n",
       "      <td>2.457795</td>\n",
       "    </tr>\n",
       "    <tr>\n",
       "      <th>1</th>\n",
       "      <td>-6.277936</td>\n",
       "      <td>-0.735617</td>\n",
       "      <td>0.489058</td>\n",
       "      <td>2.256497</td>\n",
       "    </tr>\n",
       "    <tr>\n",
       "      <th>2</th>\n",
       "      <td>0.113213</td>\n",
       "      <td>2.377825</td>\n",
       "      <td>0.791783</td>\n",
       "      <td>2.481894</td>\n",
       "    </tr>\n",
       "    <tr>\n",
       "      <th>3</th>\n",
       "      <td>-6.406671</td>\n",
       "      <td>-0.469702</td>\n",
       "      <td>0.563018</td>\n",
       "      <td>2.287582</td>\n",
       "    </tr>\n",
       "    <tr>\n",
       "      <th>4</th>\n",
       "      <td>7.747548</td>\n",
       "      <td>1.573962</td>\n",
       "      <td>-8.671539</td>\n",
       "      <td>0.448773</td>\n",
       "    </tr>\n",
       "  </tbody>\n",
       "</table>\n",
       "</div>"
      ],
      "text/plain": [
       "     0_SOAP    1_SOAP    2_SOAP    3_SOAP\n",
       "0  0.087405  2.350832  0.716843  2.457795\n",
       "1 -6.277936 -0.735617  0.489058  2.256497\n",
       "2  0.113213  2.377825  0.791783  2.481894\n",
       "3 -6.406671 -0.469702  0.563018  2.287582\n",
       "4  7.747548  1.573962 -8.671539  0.448773"
      ]
     },
     "execution_count": 88,
     "metadata": {},
     "output_type": "execute_result"
    }
   ],
   "source": [
    "df_SOAP.head()"
   ]
  },
  {
   "cell_type": "code",
   "execution_count": 89,
   "id": "b4fe05f9",
   "metadata": {},
   "outputs": [
    {
     "data": {
      "image/png": "[encoded data removed]",
      "text/plain": [
       "<Figure size 640x480 with 1 Axes>"
      ]
     },
     "metadata": {},
     "output_type": "display_data"
    }
   ],
   "source": [
    "plt.scatter(df_SOAP['3_SOAP'],target)\n",
    "plt.ylabel('Tc')\n",
    "plt.xlabel('efermi_2')\n",
    "plt.show()"
   ]
  },
  {
   "cell_type": "code",
   "execution_count": 90,
   "id": "cad966af",
   "metadata": {},
   "outputs": [
    {
     "data": {
      "text/plain": [
       "PearsonRResult(statistic=-0.3175734622408654, pvalue=1.9833573861586673e-135)"
      ]
     },
     "execution_count": 90,
     "metadata": {},
     "output_type": "execute_result"
    }
   ],
   "source": [
    "pearsonr(target,df_Basic['efermi_2'])"
   ]
  },
  {
   "cell_type": "code",
   "execution_count": 91,
   "id": "de6fb794",
   "metadata": {},
   "outputs": [
    {
     "data": {
      "text/plain": [
       "PearsonRResult(statistic=-0.05266602334948726, pvalue=6.241482232947488e-05)"
      ]
     },
     "execution_count": 91,
     "metadata": {},
     "output_type": "execute_result"
    }
   ],
   "source": [
    "pearsonr(target,df_Basic['band_gap_2'])"
   ]
  },
  {
   "cell_type": "code",
   "execution_count": 92,
   "id": "f006749a",
   "metadata": {},
   "outputs": [
    {
     "data": {
      "text/plain": [
       "PearsonRResult(statistic=0.3323068318605741, pvalue=7.268902743652396e-149)"
      ]
     },
     "execution_count": 92,
     "metadata": {},
     "output_type": "execute_result"
    }
   ],
   "source": [
    "pearsonr(target,df_Basic['latc_2'])"
   ]
  },
  {
   "cell_type": "code",
   "execution_count": 93,
   "id": "a8728520",
   "metadata": {},
   "outputs": [
    {
     "data": {
      "text/plain": [
       "PearsonRResult(statistic=-0.3354127689356193, pvalue=8.560436747591229e-152)"
      ]
     },
     "execution_count": 93,
     "metadata": {},
     "output_type": "execute_result"
    }
   ],
   "source": [
    "pearsonr(target,df_Basic['formation_energy_per_atom_2'])"
   ]
  },
  {
   "cell_type": "code",
   "execution_count": 94,
   "id": "0d0b93b9",
   "metadata": {},
   "outputs": [
    {
     "data": {
      "image/png": "[encoded data removed]",
      "text/plain": [
       "<Figure size 640x480 with 1 Axes>"
      ]
     },
     "metadata": {},
     "output_type": "display_data"
    }
   ],
   "source": [
    "plt.scatter(df_Basic['formation_energy_per_atom_2'],target)\n",
    "plt.ylabel('Tc')\n",
    "plt.xlabel('efermi_2')\n",
    "plt.show()"
   ]
  },
  {
   "cell_type": "code",
   "execution_count": 95,
   "id": "539fcbe3",
   "metadata": {},
   "outputs": [],
   "source": [
    "#Function that allows us to run the ML several times. Average the output. \n",
    "def runKRR_NTimes(N,features,targets,gam,alp):\n",
    "    MSLE = []\n",
    "    \n",
    "    for i in range(N):\n",
    "        #Split the data and targets into test train\n",
    "        X_train, X_test, y_train, y_test = train_test_split(features, targets, test_size=0.33)\n",
    "        #Apply KRR ML\n",
    "        KRR = KernelRidge(kernel=\"rbf\", gamma=gam,alpha=alp)\n",
    "        KRR.fit(X_train, y_train)\n",
    "\n",
    "        #Predict based on X_test\n",
    "        KRR_pred=KRR.predict(X_test)\n",
    "\n",
    "        #If our prediction for Tc is negative, we should set the Tc to 0.\n",
    "        #Make a copy before we start changing elements in the dataframe to avoind warnings. \n",
    "        KRR_pred_Pos = KRR_pred.copy()\n",
    "        #Set negative values to positive\n",
    "        for i in range(len(KRR_pred_Pos)):\n",
    "            if KRR_pred_Pos[i]<0:\n",
    "                KRR_pred_Pos[i]=0\n",
    "\n",
    "        #Find the mean square log error (MSLE)\n",
    "        MSLE.append(mean_squared_log_error(y_test, KRR_pred_Pos))\n",
    "    return MSLE\n"
   ]
  },
  {
   "cell_type": "code",
   "execution_count": null,
   "id": "89800f70",
   "metadata": {},
   "outputs": [],
   "source": []
  },
  {
   "cell_type": "code",
   "execution_count": 96,
   "id": "556ae696",
   "metadata": {},
   "outputs": [],
   "source": [
    "df_M_S = df_SOAP.join(df_MAGPIE)"
   ]
  },
  {
   "cell_type": "code",
   "execution_count": 97,
   "id": "8049bfc8",
   "metadata": {},
   "outputs": [],
   "source": [
    "# res = runKRR_NTimes(10,df_M_S,target,.1,.12)\n",
    "# sum(res)/len(res)"
   ]
  },
  {
   "cell_type": "code",
   "execution_count": null,
   "id": "439f7d3e",
   "metadata": {},
   "outputs": [],
   "source": []
  },
  {
   "cell_type": "code",
   "execution_count": 98,
   "id": "2213740a",
   "metadata": {},
   "outputs": [],
   "source": [
    "#Function that allows us to run the ML several times. This function scales the Tc\n",
    "#Average the output of this function after using. \n",
    "def runKRR_NTimes_log(N,features,targets,gam,alp):\n",
    "    MSLE = []\n",
    "    targets_L = np.arcsinh(targets)\n",
    "    for i in range(N):\n",
    "        #Split the data and targets into test train\n",
    "        X_train, X_test, y_train, y_test = train_test_split(features, targets_L, test_size=0.2)\n",
    "        #Apply KRR ML\n",
    "        KRR = KernelRidge(kernel=\"laplacian\", gamma=gam,alpha=alp)\n",
    "\n",
    "        KRR.fit(X_train, y_train)\n",
    "\n",
    "        #Predict based on X_test\n",
    "        KRR_pred=KRR.predict(X_test)\n",
    "\n",
    "        #If our prediction for Tc is negative, we should set the Tc to 0.\n",
    "        #Make a copy before we start changing elements in the dataframe to avoind warnings. \n",
    "        KRR_pred_Pos = KRR_pred.copy()\n",
    "        #Set negative values to positive\n",
    "        for i in range(len(KRR_pred_Pos)):\n",
    "            if KRR_pred_Pos[i]<0:\n",
    "                KRR_pred_Pos[i]=0\n",
    "\n",
    "        #Find the mean square log error (MSLE)\n",
    "        MSLE.append(mean_squared_log_error(np.sinh(y_test), np.sinh(KRR_pred_Pos)))\n",
    "    return MSLE\n"
   ]
  },
  {
   "cell_type": "code",
   "execution_count": 99,
   "id": "857077d9",
   "metadata": {},
   "outputs": [
    {
     "data": {
      "text/plain": [
       "0.5796194720424153"
      ]
     },
     "execution_count": 99,
     "metadata": {},
     "output_type": "execute_result"
    }
   ],
   "source": [
    "res = runKRR_NTimes_log(50,df_M_S,target,.1,.12)\n",
    "sum(res)/len(res)"
   ]
  },
  {
   "cell_type": "code",
   "execution_count": 100,
   "id": "e61c0c05",
   "metadata": {},
   "outputs": [],
   "source": [
    "#For MAGPIE 7 PCA features and SOAP 4 PCA features .1, .12 hyperparams: MSLE_avg=0.67"
   ]
  },
  {
   "cell_type": "code",
   "execution_count": null,
   "id": "0bedb44c",
   "metadata": {},
   "outputs": [],
   "source": []
  },
  {
   "cell_type": "code",
   "execution_count": 101,
   "id": "0baab369",
   "metadata": {},
   "outputs": [],
   "source": [
    "#Function that allows us to run the ML several times. This function scales the Tc\n",
    "#Average the output of this function after using. \n",
    "def runKRR_R2(N,features,targets,gam,alp):\n",
    "    R2 = []\n",
    "    targets_L = np.arcsinh(targets)\n",
    "    for i in range(N):\n",
    "        #Split the data and targets into test train\n",
    "        X_train, X_test, y_train, y_test = train_test_split(features, targets_L, test_size=0.2)\n",
    "        #Apply KRR ML\n",
    "        KRR = KernelRidge(kernel=\"laplacian\", gamma=gam,alpha=alp)\n",
    "\n",
    "        KRR.fit(X_train, y_train)\n",
    "\n",
    "        #Predict based on X_test\n",
    "        KRR_pred=KRR.predict(X_test)\n",
    "\n",
    "        #If our prediction for Tc is negative, we should set the Tc to 0.\n",
    "        #Make a copy before we start changing elements in the dataframe to avoind warnings. \n",
    "        KRR_pred_Pos = KRR_pred.copy()\n",
    "        #Set negative values to positive\n",
    "        for i in range(len(KRR_pred_Pos)):\n",
    "            if KRR_pred_Pos[i]<0:\n",
    "                KRR_pred_Pos[i]=0\n",
    "\n",
    "        #Find the mean square log error (MSLE)\n",
    "        R2.append(r2_score(np.sinh(y_test), np.sinh(KRR_pred_Pos)))\n",
    "    return R2\n"
   ]
  },
  {
   "cell_type": "code",
   "execution_count": 102,
   "id": "461c8337",
   "metadata": {},
   "outputs": [
    {
     "data": {
      "text/plain": [
       "0.6733340904222129"
      ]
     },
     "execution_count": 102,
     "metadata": {},
     "output_type": "execute_result"
    }
   ],
   "source": [
    "res = runKRR_R2(50,df_M_S,target,.1,.12)\n",
    "sum(res)/len(res)"
   ]
  },
  {
   "cell_type": "code",
   "execution_count": null,
   "id": "3b89eb5e",
   "metadata": {},
   "outputs": [],
   "source": []
  },
  {
   "cell_type": "code",
   "execution_count": null,
   "id": "86eff809",
   "metadata": {},
   "outputs": [],
   "source": []
  },
  {
   "cell_type": "code",
   "execution_count": null,
   "id": "9a9e85fa",
   "metadata": {},
   "outputs": [],
   "source": []
  },
  {
   "cell_type": "code",
   "execution_count": null,
   "id": "b9bb5a8b",
   "metadata": {},
   "outputs": [],
   "source": []
  },
  {
   "cell_type": "code",
   "execution_count": 58,
   "id": "a013c6c0",
   "metadata": {},
   "outputs": [],
   "source": []
  },
  {
   "cell_type": "code",
   "execution_count": 103,
   "id": "2bc12f2d",
   "metadata": {},
   "outputs": [
    {
     "data": {
      "text/plain": [
       "0.6801145375673452"
      ]
     },
     "execution_count": 103,
     "metadata": {},
     "output_type": "execute_result"
    }
   ],
   "source": [
    "df_M_S_X = df_M_S.join(df_Basic['efermi_2'])\n",
    "res = runKRR_R2(10,df_M_S_X,target,.1,.12)\n",
    "sum(res)/len(res)"
   ]
  },
  {
   "cell_type": "code",
   "execution_count": 106,
   "id": "08a14cea",
   "metadata": {},
   "outputs": [
    {
     "data": {
      "text/plain": [
       "0.5722939618875479"
      ]
     },
     "execution_count": 106,
     "metadata": {},
     "output_type": "execute_result"
    }
   ],
   "source": [
    "res = runKRR_NTimes_log(10,df_M_S_X,target,.1,.12)\n",
    "sum(res)/len(res)"
   ]
  },
  {
   "cell_type": "code",
   "execution_count": null,
   "id": "0e2a7909",
   "metadata": {},
   "outputs": [],
   "source": []
  },
  {
   "cell_type": "code",
   "execution_count": 62,
   "id": "2564f69c",
   "metadata": {},
   "outputs": [
    {
     "data": {
      "text/plain": [
       "0.673111506204944"
      ]
     },
     "execution_count": 62,
     "metadata": {},
     "output_type": "execute_result"
    }
   ],
   "source": [
    "df_M_S_X = df_M_S.join(df_Basic['formation_energy_per_atom_2'])\n",
    "res = runKRR_R2(50,df_M_S_X,target,.1,.12)\n",
    "sum(res)/len(res)"
   ]
  },
  {
   "cell_type": "code",
   "execution_count": null,
   "id": "9e67edfb",
   "metadata": {},
   "outputs": [],
   "source": []
  },
  {
   "cell_type": "code",
   "execution_count": 64,
   "id": "9792e758",
   "metadata": {},
   "outputs": [
    {
     "data": {
      "text/plain": [
       "0.6775909584080827"
      ]
     },
     "execution_count": 64,
     "metadata": {},
     "output_type": "execute_result"
    }
   ],
   "source": [
    "df_M_S_X = df_M_S.join(df_Basic['latc_2'])\n",
    "res = runKRR_R2(50,df_M_S_X,target,.1,.12)\n",
    "sum(res)/len(res)"
   ]
  },
  {
   "cell_type": "code",
   "execution_count": null,
   "id": "db2bc1a6",
   "metadata": {},
   "outputs": [],
   "source": []
  },
  {
   "cell_type": "code",
   "execution_count": 78,
   "id": "bc2f1573",
   "metadata": {},
   "outputs": [
    {
     "data": {
      "text/plain": [
       "0.6319442665665895"
      ]
     },
     "execution_count": 78,
     "metadata": {},
     "output_type": "execute_result"
    }
   ],
   "source": [
    "# df_M_S_X = df_Basic['efermi_2'].join(df_Basic['latc_2'])\n",
    "# df_M_S_X = df_M_S_X.join(df_Basic['formation_energy_per_atom_2'])\n",
    "df_M_S_X = pd.concat([df_Basic['efermi_2'],df_Basic['latc_2'],df_Basic['lata_2'],df_Basic['formation_energy_per_atom_2']],axis=1)\n",
    "\n",
    "\n",
    "res = runKRR_R2(50,df_M_S_X,target,2,.12)\n",
    "sum(res)/len(res)"
   ]
  },
  {
   "cell_type": "code",
   "execution_count": 84,
   "id": "d0576907",
   "metadata": {},
   "outputs": [
    {
     "data": {
      "text/plain": [
       "0.7673286748198875"
      ]
     },
     "execution_count": 84,
     "metadata": {},
     "output_type": "execute_result"
    }
   ],
   "source": [
    "res = runKRR_NTimes_log(50,df_M_S_X,target,2,.12)\n",
    "sum(res)/len(res)"
   ]
  },
  {
   "cell_type": "code",
   "execution_count": 85,
   "id": "a3226967",
   "metadata": {},
   "outputs": [
    {
     "data": {
      "text/plain": [
       "1.9091385749673395"
      ]
     },
     "execution_count": 85,
     "metadata": {},
     "output_type": "execute_result"
    }
   ],
   "source": [
    "df_M_S_X = pd.concat([df_M_S,df_Basic['efermi_2'],df_Basic['latc_2'],df_Basic['formation_energy_per_atom_2']],axis=1)\n",
    "\n",
    "\n",
    "res = runKRR_NTimes_log(50,df_M_S_X,target,2,.12)\n",
    "sum(res)/len(res)"
   ]
  },
  {
   "cell_type": "code",
   "execution_count": null,
   "id": "67a09f49",
   "metadata": {},
   "outputs": [],
   "source": []
  },
  {
   "cell_type": "code",
   "execution_count": null,
   "id": "88424b14",
   "metadata": {},
   "outputs": [],
   "source": []
  }
 ],
 "metadata": {
  "kernelspec": {
   "display_name": "Python 3 (ipykernel)",
   "language": "python",
   "name": "python3"
  },
  "language_info": {
   "codemirror_mode": {
    "name": "ipython",
    "version": 3
   },
   "file_extension": ".py",
   "mimetype": "text/x-python",
   "name": "python",
   "nbconvert_exporter": "python",
   "pygments_lexer": "ipython3",
   "version": "3.8.16"
  }
 },
 "nbformat": 4,
 "nbformat_minor": 5
}
