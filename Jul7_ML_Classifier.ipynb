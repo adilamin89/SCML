{
 "cells": [
  {
   "cell_type": "code",
   "execution_count": 56,
   "id": "ceeb91fe",
   "metadata": {},
   "outputs": [],
   "source": [
    "import pandas as pd\n",
    "import numpy as np\n",
    "import seaborn as sns\n",
    "from sklearn import datasets\n",
    "from sklearn.svm import LinearSVC\n",
    "from sklearn.preprocessing import StandardScaler\n",
    "from sklearn.decomposition import PCA\n",
    "from sklearn.model_selection import cross_val_score\n",
    "from sklearn.linear_model import LinearRegression\n",
    "import matplotlib.pyplot as plt\n",
    "from sklearn.model_selection import train_test_split\n",
    "from sklearn.kernel_ridge import KernelRidge\n",
    "from sklearn.metrics import mean_squared_log_error\n",
    "from scipy.stats import pearsonr\n",
    "from sklearn.metrics import r2_score\n",
    "from sklearn.ensemble import RandomForestClassifier\n",
    "from sklearn.metrics import accuracy_score\n"
   ]
  },
  {
   "cell_type": "code",
   "execution_count": 5,
   "id": "9dbcdd3d",
   "metadata": {},
   "outputs": [],
   "source": [
    "df_SOAP = pd.read_csv('SOAP.csv')\n",
    "df_MAGPIE = pd.read_csv('MAGPIE.csv')\n",
    "df_Basic = pd.read_csv('Basic_Features.csv')\n",
    "df_Class = pd.read_csv('Class.csv')\n",
    "df_full = pd.concat([df_SOAP,df_MAGPIE,df_Basic,df_Class],axis=1)"
   ]
  },
  {
   "cell_type": "code",
   "execution_count": 8,
   "id": "f35d7b40",
   "metadata": {},
   "outputs": [
    {
     "data": {
      "text/plain": [
       "1    3995\n",
       "0    1778\n",
       "Name: IS_SC, dtype: int64"
      ]
     },
     "execution_count": 8,
     "metadata": {},
     "output_type": "execute_result"
    }
   ],
   "source": [
    "df_full['IS_SC'].value_counts()"
   ]
  },
  {
   "cell_type": "code",
   "execution_count": 9,
   "id": "baab63d2",
   "metadata": {},
   "outputs": [],
   "source": [
    "df_NSC=df_full[df_full['IS_SC']==0]\n",
    "df_SC=df_full[df_full['IS_SC']==1]"
   ]
  },
  {
   "cell_type": "code",
   "execution_count": 10,
   "id": "95e90694",
   "metadata": {},
   "outputs": [
    {
     "data": {
      "text/plain": [
       "(1778, 113)"
      ]
     },
     "execution_count": 10,
     "metadata": {},
     "output_type": "execute_result"
    }
   ],
   "source": [
    "df_NSC.shape"
   ]
  },
  {
   "cell_type": "code",
   "execution_count": 11,
   "id": "3fd015c9",
   "metadata": {},
   "outputs": [
    {
     "data": {
      "text/plain": [
       "(3995, 113)"
      ]
     },
     "execution_count": 11,
     "metadata": {},
     "output_type": "execute_result"
    }
   ],
   "source": [
    "df_SC.shape"
   ]
  },
  {
   "cell_type": "code",
   "execution_count": 63,
   "id": "628e878a",
   "metadata": {},
   "outputs": [],
   "source": [
    "df_SC_Keep,df_SC_NOT_USED=train_test_split(df_SC,train_size=1778,random_state=22)"
   ]
  },
  {
   "cell_type": "code",
   "execution_count": 64,
   "id": "1777f9f4",
   "metadata": {},
   "outputs": [
    {
     "data": {
      "text/plain": [
       "(1778, 113)"
      ]
     },
     "execution_count": 64,
     "metadata": {},
     "output_type": "execute_result"
    }
   ],
   "source": [
    "df_SC_Keep.shape"
   ]
  },
  {
   "cell_type": "code",
   "execution_count": 65,
   "id": "4e65e410",
   "metadata": {},
   "outputs": [],
   "source": [
    "df_Balanced = pd.concat([df_NSC,df_SC_Keep],ignore_index=False,axis=0)"
   ]
  },
  {
   "cell_type": "code",
   "execution_count": 66,
   "id": "1b37bb32",
   "metadata": {},
   "outputs": [
    {
     "data": {
      "text/plain": [
       "(3556, 113)"
      ]
     },
     "execution_count": 66,
     "metadata": {},
     "output_type": "execute_result"
    }
   ],
   "source": [
    "df_Balanced.shape"
   ]
  },
  {
   "cell_type": "code",
   "execution_count": 67,
   "id": "2cdc6d4d",
   "metadata": {},
   "outputs": [
    {
     "data": {
      "text/plain": [
       "0    1778\n",
       "1    1778\n",
       "Name: IS_SC, dtype: int64"
      ]
     },
     "execution_count": 67,
     "metadata": {},
     "output_type": "execute_result"
    }
   ],
   "source": [
    "df_Balanced['IS_SC'].value_counts()"
   ]
  },
  {
   "cell_type": "code",
   "execution_count": 68,
   "id": "34f878c5",
   "metadata": {},
   "outputs": [
    {
     "data": {
      "text/html": [
       "<div>\n",
       "<style scoped>\n",
       "    .dataframe tbody tr th:only-of-type {\n",
       "        vertical-align: middle;\n",
       "    }\n",
       "\n",
       "    .dataframe tbody tr th {\n",
       "        vertical-align: top;\n",
       "    }\n",
       "\n",
       "    .dataframe thead th {\n",
       "        text-align: right;\n",
       "    }\n",
       "</style>\n",
       "<table border=\"1\" class=\"dataframe\">\n",
       "  <thead>\n",
       "    <tr style=\"text-align: right;\">\n",
       "      <th></th>\n",
       "      <th>0_SOAP</th>\n",
       "      <th>1_SOAP</th>\n",
       "      <th>2_SOAP</th>\n",
       "      <th>3_SOAP</th>\n",
       "      <th>0_MAGPIE</th>\n",
       "      <th>1_MAGPIE</th>\n",
       "      <th>2_MAGPIE</th>\n",
       "      <th>3_MAGPIE</th>\n",
       "      <th>4_MAGPIE</th>\n",
       "      <th>5_MAGPIE</th>\n",
       "      <th>...</th>\n",
       "      <th>IS_SC</th>\n",
       "      <th>Other</th>\n",
       "      <th>Heavy_fermion</th>\n",
       "      <th>Chevrel</th>\n",
       "      <th>Oxide</th>\n",
       "      <th>Cuprate</th>\n",
       "      <th>Ferrite</th>\n",
       "      <th>Carbon</th>\n",
       "      <th>OxideHeavy_fermion</th>\n",
       "      <th>Heavy_fermionChevrel</th>\n",
       "    </tr>\n",
       "  </thead>\n",
       "  <tbody>\n",
       "    <tr>\n",
       "      <th>8</th>\n",
       "      <td>-4.318022</td>\n",
       "      <td>0.666479</td>\n",
       "      <td>1.756119</td>\n",
       "      <td>4.290519</td>\n",
       "      <td>7.565961</td>\n",
       "      <td>6.574117</td>\n",
       "      <td>2.883407</td>\n",
       "      <td>2.136510</td>\n",
       "      <td>-4.352759</td>\n",
       "      <td>-2.684171</td>\n",
       "      <td>...</td>\n",
       "      <td>0</td>\n",
       "      <td>1</td>\n",
       "      <td>0</td>\n",
       "      <td>0</td>\n",
       "      <td>0</td>\n",
       "      <td>0</td>\n",
       "      <td>0</td>\n",
       "      <td>0</td>\n",
       "      <td>0</td>\n",
       "      <td>0</td>\n",
       "    </tr>\n",
       "    <tr>\n",
       "      <th>11</th>\n",
       "      <td>-7.127369</td>\n",
       "      <td>-0.728797</td>\n",
       "      <td>0.979327</td>\n",
       "      <td>3.147847</td>\n",
       "      <td>3.796743</td>\n",
       "      <td>4.761121</td>\n",
       "      <td>8.076195</td>\n",
       "      <td>-1.229366</td>\n",
       "      <td>1.075339</td>\n",
       "      <td>-2.080735</td>\n",
       "      <td>...</td>\n",
       "      <td>0</td>\n",
       "      <td>1</td>\n",
       "      <td>0</td>\n",
       "      <td>0</td>\n",
       "      <td>0</td>\n",
       "      <td>0</td>\n",
       "      <td>0</td>\n",
       "      <td>0</td>\n",
       "      <td>0</td>\n",
       "      <td>0</td>\n",
       "    </tr>\n",
       "    <tr>\n",
       "      <th>18</th>\n",
       "      <td>-5.351930</td>\n",
       "      <td>0.175732</td>\n",
       "      <td>1.899704</td>\n",
       "      <td>3.546542</td>\n",
       "      <td>8.036086</td>\n",
       "      <td>5.853591</td>\n",
       "      <td>3.388295</td>\n",
       "      <td>1.715503</td>\n",
       "      <td>-4.897682</td>\n",
       "      <td>-1.963486</td>\n",
       "      <td>...</td>\n",
       "      <td>0</td>\n",
       "      <td>1</td>\n",
       "      <td>0</td>\n",
       "      <td>0</td>\n",
       "      <td>0</td>\n",
       "      <td>0</td>\n",
       "      <td>0</td>\n",
       "      <td>0</td>\n",
       "      <td>0</td>\n",
       "      <td>0</td>\n",
       "    </tr>\n",
       "    <tr>\n",
       "      <th>28</th>\n",
       "      <td>-5.129325</td>\n",
       "      <td>-0.477014</td>\n",
       "      <td>1.247165</td>\n",
       "      <td>1.955806</td>\n",
       "      <td>2.347327</td>\n",
       "      <td>-3.564296</td>\n",
       "      <td>1.956238</td>\n",
       "      <td>0.240303</td>\n",
       "      <td>-4.969015</td>\n",
       "      <td>-0.588075</td>\n",
       "      <td>...</td>\n",
       "      <td>0</td>\n",
       "      <td>1</td>\n",
       "      <td>0</td>\n",
       "      <td>0</td>\n",
       "      <td>0</td>\n",
       "      <td>0</td>\n",
       "      <td>0</td>\n",
       "      <td>0</td>\n",
       "      <td>0</td>\n",
       "      <td>0</td>\n",
       "    </tr>\n",
       "    <tr>\n",
       "      <th>29</th>\n",
       "      <td>-9.172182</td>\n",
       "      <td>-1.171112</td>\n",
       "      <td>0.760307</td>\n",
       "      <td>5.324838</td>\n",
       "      <td>1.199149</td>\n",
       "      <td>3.835899</td>\n",
       "      <td>-2.445091</td>\n",
       "      <td>-5.562431</td>\n",
       "      <td>2.247517</td>\n",
       "      <td>0.525324</td>\n",
       "      <td>...</td>\n",
       "      <td>0</td>\n",
       "      <td>0</td>\n",
       "      <td>1</td>\n",
       "      <td>0</td>\n",
       "      <td>0</td>\n",
       "      <td>0</td>\n",
       "      <td>0</td>\n",
       "      <td>0</td>\n",
       "      <td>0</td>\n",
       "      <td>0</td>\n",
       "    </tr>\n",
       "  </tbody>\n",
       "</table>\n",
       "<p>5 rows × 113 columns</p>\n",
       "</div>"
      ],
      "text/plain": [
       "      0_SOAP    1_SOAP    2_SOAP    3_SOAP  0_MAGPIE  1_MAGPIE  2_MAGPIE  \\\n",
       "8  -4.318022  0.666479  1.756119  4.290519  7.565961  6.574117  2.883407   \n",
       "11 -7.127369 -0.728797  0.979327  3.147847  3.796743  4.761121  8.076195   \n",
       "18 -5.351930  0.175732  1.899704  3.546542  8.036086  5.853591  3.388295   \n",
       "28 -5.129325 -0.477014  1.247165  1.955806  2.347327 -3.564296  1.956238   \n",
       "29 -9.172182 -1.171112  0.760307  5.324838  1.199149  3.835899 -2.445091   \n",
       "\n",
       "    3_MAGPIE  4_MAGPIE  5_MAGPIE  ...  IS_SC Other  Heavy_fermion  Chevrel  \\\n",
       "8   2.136510 -4.352759 -2.684171  ...      0     1              0        0   \n",
       "11 -1.229366  1.075339 -2.080735  ...      0     1              0        0   \n",
       "18  1.715503 -4.897682 -1.963486  ...      0     1              0        0   \n",
       "28  0.240303 -4.969015 -0.588075  ...      0     1              0        0   \n",
       "29 -5.562431  2.247517  0.525324  ...      0     0              1        0   \n",
       "\n",
       "    Oxide  Cuprate Ferrite Carbon  OxideHeavy_fermion Heavy_fermionChevrel  \n",
       "8       0        0       0      0                   0                    0  \n",
       "11      0        0       0      0                   0                    0  \n",
       "18      0        0       0      0                   0                    0  \n",
       "28      0        0       0      0                   0                    0  \n",
       "29      0        0       0      0                   0                    0  \n",
       "\n",
       "[5 rows x 113 columns]"
      ]
     },
     "execution_count": 68,
     "metadata": {},
     "output_type": "execute_result"
    }
   ],
   "source": [
    "df_Balanced.head()"
   ]
  },
  {
   "cell_type": "code",
   "execution_count": 69,
   "id": "82c9c951",
   "metadata": {},
   "outputs": [],
   "source": [
    "MAG_cols = [col for col in df_Balanced if col.endswith('MAGPIE')]\n",
    "df_MAGPIE = df_Balanced[MAG_cols].copy()\n",
    "SOAP_cols = [col for col in df_Balanced if col.endswith('SOAP')]\n",
    "df_SOAP = df_Balanced[SOAP_cols].copy()\n",
    "features = pd.concat([df_SOAP,df_MAGPIE],axis=1)\n",
    "targets = df_Balanced['IS_SC']"
   ]
  },
  {
   "cell_type": "code",
   "execution_count": 70,
   "id": "5d095f1c",
   "metadata": {},
   "outputs": [],
   "source": [
    "X_train, X_test, y_train, y_test = train_test_split(features, targets, test_size=0.2)"
   ]
  },
  {
   "cell_type": "code",
   "execution_count": 71,
   "id": "3bbc1fff",
   "metadata": {},
   "outputs": [
    {
     "data": {
      "text/html": [
       "<style>#sk-container-id-3 {color: black;background-color: white;}#sk-container-id-3 pre{padding: 0;}#sk-container-id-3 div.sk-toggleable {background-color: white;}#sk-container-id-3 label.sk-toggleable__label {cursor: pointer;display: block;width: 100%;margin-bottom: 0;padding: 0.3em;box-sizing: border-box;text-align: center;}#sk-container-id-3 label.sk-toggleable__label-arrow:before {content: \"▸\";float: left;margin-right: 0.25em;color: #696969;}#sk-container-id-3 label.sk-toggleable__label-arrow:hover:before {color: black;}#sk-container-id-3 div.sk-estimator:hover label.sk-toggleable__label-arrow:before {color: black;}#sk-container-id-3 div.sk-toggleable__content {max-height: 0;max-width: 0;overflow: hidden;text-align: left;background-color: #f0f8ff;}#sk-container-id-3 div.sk-toggleable__content pre {margin: 0.2em;color: black;border-radius: 0.25em;background-color: #f0f8ff;}#sk-container-id-3 input.sk-toggleable__control:checked~div.sk-toggleable__content {max-height: 200px;max-width: 100%;overflow: auto;}#sk-container-id-3 input.sk-toggleable__control:checked~label.sk-toggleable__label-arrow:before {content: \"▾\";}#sk-container-id-3 div.sk-estimator input.sk-toggleable__control:checked~label.sk-toggleable__label {background-color: #d4ebff;}#sk-container-id-3 div.sk-label input.sk-toggleable__control:checked~label.sk-toggleable__label {background-color: #d4ebff;}#sk-container-id-3 input.sk-hidden--visually {border: 0;clip: rect(1px 1px 1px 1px);clip: rect(1px, 1px, 1px, 1px);height: 1px;margin: -1px;overflow: hidden;padding: 0;position: absolute;width: 1px;}#sk-container-id-3 div.sk-estimator {font-family: monospace;background-color: #f0f8ff;border: 1px dotted black;border-radius: 0.25em;box-sizing: border-box;margin-bottom: 0.5em;}#sk-container-id-3 div.sk-estimator:hover {background-color: #d4ebff;}#sk-container-id-3 div.sk-parallel-item::after {content: \"\";width: 100%;border-bottom: 1px solid gray;flex-grow: 1;}#sk-container-id-3 div.sk-label:hover label.sk-toggleable__label {background-color: #d4ebff;}#sk-container-id-3 div.sk-serial::before {content: \"\";position: absolute;border-left: 1px solid gray;box-sizing: border-box;top: 0;bottom: 0;left: 50%;z-index: 0;}#sk-container-id-3 div.sk-serial {display: flex;flex-direction: column;align-items: center;background-color: white;padding-right: 0.2em;padding-left: 0.2em;position: relative;}#sk-container-id-3 div.sk-item {position: relative;z-index: 1;}#sk-container-id-3 div.sk-parallel {display: flex;align-items: stretch;justify-content: center;background-color: white;position: relative;}#sk-container-id-3 div.sk-item::before, #sk-container-id-3 div.sk-parallel-item::before {content: \"\";position: absolute;border-left: 1px solid gray;box-sizing: border-box;top: 0;bottom: 0;left: 50%;z-index: -1;}#sk-container-id-3 div.sk-parallel-item {display: flex;flex-direction: column;z-index: 1;position: relative;background-color: white;}#sk-container-id-3 div.sk-parallel-item:first-child::after {align-self: flex-end;width: 50%;}#sk-container-id-3 div.sk-parallel-item:last-child::after {align-self: flex-start;width: 50%;}#sk-container-id-3 div.sk-parallel-item:only-child::after {width: 0;}#sk-container-id-3 div.sk-dashed-wrapped {border: 1px dashed gray;margin: 0 0.4em 0.5em 0.4em;box-sizing: border-box;padding-bottom: 0.4em;background-color: white;}#sk-container-id-3 div.sk-label label {font-family: monospace;font-weight: bold;display: inline-block;line-height: 1.2em;}#sk-container-id-3 div.sk-label-container {text-align: center;}#sk-container-id-3 div.sk-container {/* jupyter's `normalize.less` sets `[hidden] { display: none; }` but bootstrap.min.css set `[hidden] { display: none !important; }` so we also need the `!important` here to be able to override the default hidden behavior on the sphinx rendered scikit-learn.org. See: https://github.com/scikit-learn/scikit-learn/issues/21755 */display: inline-block !important;position: relative;}#sk-container-id-3 div.sk-text-repr-fallback {display: none;}</style><div id=\"sk-container-id-3\" class=\"sk-top-container\"><div class=\"sk-text-repr-fallback\"><pre>RandomForestClassifier(random_state=1)</pre><b>In a Jupyter environment, please rerun this cell to show the HTML representation or trust the notebook. <br />On GitHub, the HTML representation is unable to render, please try loading this page with nbviewer.org.</b></div><div class=\"sk-container\" hidden><div class=\"sk-item\"><div class=\"sk-estimator sk-toggleable\"><input class=\"sk-toggleable__control sk-hidden--visually\" id=\"sk-estimator-id-3\" type=\"checkbox\" checked><label for=\"sk-estimator-id-3\" class=\"sk-toggleable__label sk-toggleable__label-arrow\">RandomForestClassifier</label><div class=\"sk-toggleable__content\"><pre>RandomForestClassifier(random_state=1)</pre></div></div></div></div></div>"
      ],
      "text/plain": [
       "RandomForestClassifier(random_state=1)"
      ]
     },
     "execution_count": 71,
     "metadata": {},
     "output_type": "execute_result"
    }
   ],
   "source": [
    "clf = RandomForestClassifier(random_state=1)\n",
    "clf.fit(X_train, y_train)"
   ]
  },
  {
   "cell_type": "code",
   "execution_count": 72,
   "id": "49dbd3f1",
   "metadata": {},
   "outputs": [],
   "source": [
    "RF_Pred = clf.predict(X_test)"
   ]
  },
  {
   "cell_type": "code",
   "execution_count": 73,
   "id": "2a1ef5d8",
   "metadata": {},
   "outputs": [
    {
     "data": {
      "text/plain": [
       "0.776685393258427"
      ]
     },
     "execution_count": 73,
     "metadata": {},
     "output_type": "execute_result"
    }
   ],
   "source": [
    "clf.score(X_test,y_test)"
   ]
  },
  {
   "cell_type": "code",
   "execution_count": 74,
   "id": "64192c50",
   "metadata": {},
   "outputs": [
    {
     "data": {
      "text/plain": [
       "0.776685393258427"
      ]
     },
     "execution_count": 74,
     "metadata": {},
     "output_type": "execute_result"
    }
   ],
   "source": [
    "accuracy_score(RF_Pred,y_test)"
   ]
  },
  {
   "cell_type": "code",
   "execution_count": null,
   "id": "a173fd61",
   "metadata": {},
   "outputs": [],
   "source": []
  }
 ],
 "metadata": {
  "kernelspec": {
   "display_name": "Python 3 (ipykernel)",
   "language": "python",
   "name": "python3"
  },
  "language_info": {
   "codemirror_mode": {
    "name": "ipython",
    "version": 3
   },
   "file_extension": ".py",
   "mimetype": "text/x-python",
   "name": "python",
   "nbconvert_exporter": "python",
   "pygments_lexer": "ipython3",
   "version": "3.8.16"
  }
 },
 "nbformat": 4,
 "nbformat_minor": 5
}
