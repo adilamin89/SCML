{
 "cells": [
  {
   "cell_type": "code",
   "execution_count": 1,
   "id": "07ef2ff9",
   "metadata": {},
   "outputs": [],
   "source": [
    "import pandas as pd\n",
    "import numpy as np\n",
    "import seaborn as sns\n",
    "from sklearn import datasets\n",
    "from sklearn.svm import LinearSVC\n",
    "from sklearn.preprocessing import StandardScaler\n",
    "from sklearn.decomposition import PCA\n",
    "from sklearn.model_selection import cross_val_score\n",
    "from sklearn.linear_model import LinearRegression\n",
    "import matplotlib.pyplot as plt\n",
    "from sklearn.model_selection import train_test_split\n",
    "from sklearn.kernel_ridge import KernelRidge\n",
    "from sklearn.metrics import mean_squared_log_error\n",
    "\n"
   ]
  },
  {
   "cell_type": "code",
   "execution_count": 28,
   "id": "a0262dea",
   "metadata": {},
   "outputs": [],
   "source": [
    "# Load dataset\n",
    "df_SOAP = pd.read_csv('SOAP.csv')\n",
    "df_MAGPIE = pd.read_csv('MAGPIE.csv')\n",
    "df_Basic = pd.read_csv('Basic_Features.csv')\n",
    "df_Class = pd.read_csv('Class.csv')\n",
    "target = df_Basic['tc']"
   ]
  },
  {
   "cell_type": "code",
   "execution_count": 30,
   "id": "b36b3375",
   "metadata": {},
   "outputs": [],
   "source": [
    "tc_log=np.arcsinh(targets)"
   ]
  },
  {
   "cell_type": "code",
   "execution_count": 37,
   "id": "a683476d",
   "metadata": {},
   "outputs": [
    {
     "data": {
      "text/plain": [
       "1.4436354751788103"
      ]
     },
     "execution_count": 37,
     "metadata": {},
     "output_type": "execute_result"
    }
   ],
   "source": [
    "np.arcsinh(2)"
   ]
  },
  {
   "cell_type": "code",
   "execution_count": 40,
   "id": "4beedbdc",
   "metadata": {},
   "outputs": [
    {
     "data": {
      "text/plain": [
       "5.560696423586702"
      ]
     },
     "execution_count": 40,
     "metadata": {},
     "output_type": "execute_result"
    }
   ],
   "source": [
    "np.arcsinh(130)"
   ]
  },
  {
   "cell_type": "code",
   "execution_count": 31,
   "id": "16a83d33",
   "metadata": {},
   "outputs": [
    {
     "data": {
      "text/plain": [
       "0       1.698007\n",
       "1       1.508773\n",
       "2       1.690899\n",
       "3       1.015973\n",
       "4       1.879864\n",
       "          ...   \n",
       "5768    0.000000\n",
       "5769    0.000000\n",
       "5770    0.771847\n",
       "5771    0.292479\n",
       "5772    0.879015\n",
       "Name: tc, Length: 5773, dtype: float64"
      ]
     },
     "execution_count": 31,
     "metadata": {},
     "output_type": "execute_result"
    }
   ],
   "source": [
    "tc_log"
   ]
  },
  {
   "cell_type": "code",
   "execution_count": 32,
   "id": "92a25f44",
   "metadata": {},
   "outputs": [
    {
     "data": {
      "text/plain": [
       "0       2.640000\n",
       "1       2.150000\n",
       "2       2.620000\n",
       "3       1.200000\n",
       "4       3.200000\n",
       "          ...   \n",
       "5768    0.000000\n",
       "5769    0.000000\n",
       "5770    0.850800\n",
       "5771    0.296667\n",
       "5772    0.996667\n",
       "Name: tc, Length: 5773, dtype: float64"
      ]
     },
     "execution_count": 32,
     "metadata": {},
     "output_type": "execute_result"
    }
   ],
   "source": [
    "targets"
   ]
  },
  {
   "cell_type": "code",
   "execution_count": 29,
   "id": "d4843288",
   "metadata": {},
   "outputs": [
    {
     "data": {
      "text/plain": [
       "1.028543940495541"
      ]
     },
     "execution_count": 29,
     "metadata": {},
     "output_type": "execute_result"
    }
   ],
   "source": [
    "#Apply ML on SOAP\n",
    "#Split the data and targets into test train\n",
    "X_train, X_test, y_train, y_test = train_test_split(df_SOAP, target, test_size=0.33, random_state=21)\n",
    "#Apply KRR ML\n",
    "KRR = KernelRidge(kernel=\"rbf\", gamma=2.0,alpha=.1)\n",
    "KRR.fit(X_train, y_train)\n",
    "\n",
    "#Predict based on X_test\n",
    "KRR_pred=KRR.predict(X_test)\n",
    "\n",
    "#If our prediction for Tc is negative, we should set the Tc to 0.\n",
    "#Make a copy before we start changing elements in the dataframe to avoind warnings. \n",
    "KRR_pred_Pos = KRR_pred.copy()\n",
    "#Set negative values to positive\n",
    "for i in range(len(KRR_pred_Pos)):\n",
    "    if KRR_pred_Pos[i]<0:\n",
    "        KRR_pred_Pos[i]=0\n",
    "        \n",
    "#Find the mean square log error (MSLE)\n",
    "mean_squared_log_error(y_test, KRR_pred_Pos)"
   ]
  },
  {
   "cell_type": "code",
   "execution_count": null,
   "id": "b4fe05f9",
   "metadata": {},
   "outputs": [],
   "source": []
  },
  {
   "cell_type": "code",
   "execution_count": null,
   "id": "458ce9b1",
   "metadata": {},
   "outputs": [],
   "source": []
  },
  {
   "cell_type": "code",
   "execution_count": 35,
   "id": "09c1091f",
   "metadata": {},
   "outputs": [
    {
     "data": {
      "text/plain": [
       "0.9251336015693028"
      ]
     },
     "execution_count": 35,
     "metadata": {},
     "output_type": "execute_result"
    }
   ],
   "source": [
    "#Apply ML on MAGPIE\n",
    "#Split the data and targets into test train\n",
    "X_train, X_test, y_train, y_test = train_test_split(df_MAGPIE, targets, test_size=0.33, random_state=21)\n",
    "#Apply KRR ML\n",
    "KRR = KernelRidge(kernel=\"rbf\", gamma=2.0,alpha=.1)\n",
    "KRR.fit(X_train, y_train)\n",
    "\n",
    "#Predict based on X_test\n",
    "KRR_pred=KRR.predict(X_test)\n",
    "\n",
    "#If our prediction for Tc is negative, we should set the Tc to 0.\n",
    "#Make a copy before we start changing elements in the dataframe to avoind warnings. \n",
    "KRR_pred_Pos = KRR_pred.copy()\n",
    "#Set negative values to positive\n",
    "for i in range(len(KRR_pred_Pos)):\n",
    "    if KRR_pred_Pos[i]<0:\n",
    "        KRR_pred_Pos[i]=0\n",
    "        \n",
    "#Find the mean square log error (MSLE)\n",
    "mean_squared_log_error(y_test, KRR_pred_Pos)"
   ]
  },
  {
   "cell_type": "code",
   "execution_count": null,
   "id": "c68c694a",
   "metadata": {},
   "outputs": [],
   "source": []
  },
  {
   "cell_type": "code",
   "execution_count": 72,
   "id": "5869e6f6",
   "metadata": {},
   "outputs": [
    {
     "data": {
      "text/plain": [
       "0.903841214598897"
      ]
     },
     "execution_count": 72,
     "metadata": {},
     "output_type": "execute_result"
    }
   ],
   "source": [
    "#Apply ML on MAGPIE\n",
    "#Split the data and targets into test train\n",
    "X_train, X_test, y_train, y_test = train_test_split(df_MAGPIE, tc_log, test_size=0.33, random_state=21)\n",
    "X_train, X_test, y_train, y_test = train_test_split(df_MAGPIE, tc_log, test_size=0.2)\n",
    "#Apply KRR ML\n",
    "KRR = KernelRidge(kernel=\"rbf\", gamma=2.0,alpha=.1)\n",
    "KRR.fit(X_train, y_train)\n",
    "\n",
    "#Predict based on X_test\n",
    "KRR_pred=KRR.predict(X_test)\n",
    "\n",
    "#If our prediction for Tc is negative, we should set the Tc to 0.\n",
    "#Make a copy before we start changing elements in the dataframe to avoind warnings. \n",
    "KRR_pred_Pos = KRR_pred.copy()\n",
    "#Set negative values to positive\n",
    "for i in range(len(KRR_pred_Pos)):\n",
    "    if KRR_pred_Pos[i]<0:\n",
    "        KRR_pred_Pos[i]=0\n",
    "        \n",
    "#Find the mean square log error (MSLE)\n",
    "mean_squared_log_error(np.sinh(y_test), np.sinh(KRR_pred_Pos))"
   ]
  },
  {
   "cell_type": "code",
   "execution_count": null,
   "id": "37d03b61",
   "metadata": {},
   "outputs": [],
   "source": []
  }
 ],
 "metadata": {
  "kernelspec": {
   "display_name": "Python 3 (ipykernel)",
   "language": "python",
   "name": "python3"
  },
  "language_info": {
   "codemirror_mode": {
    "name": "ipython",
    "version": 3
   },
   "file_extension": ".py",
   "mimetype": "text/x-python",
   "name": "python",
   "nbconvert_exporter": "python",
   "pygments_lexer": "ipython3",
   "version": "3.8.16"
  }
 },
 "nbformat": 4,
 "nbformat_minor": 5
}
